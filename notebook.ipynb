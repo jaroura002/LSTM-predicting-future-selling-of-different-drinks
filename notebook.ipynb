{
 "cells": [
  {
   "cell_type": "markdown",
   "metadata": {},
   "source": [
    "## Load the libraries"
   ]
  },
  {
   "cell_type": "code",
   "execution_count": 1,
   "metadata": {},
   "outputs": [
    {
     "name": "stderr",
     "output_type": "stream",
     "text": [
      "Using TensorFlow backend.\n"
     ]
    },
    {
     "name": "stdout",
     "output_type": "stream",
     "text": [
      "Libraries Imported\n"
     ]
    }
   ],
   "source": [
    "import pandas as pd\n",
    "import numpy as np\n",
    "import matplotlib.pyplot as plt\n",
    "%matplotlib inline\n",
    "import seaborn as sns\n",
    "from sklearn.preprocessing import LabelEncoder\n",
    "from sklearn.metrics import mean_squared_error\n",
    "from sklearn.ensemble import RandomForestRegressor\n",
    "import xgboost as xgb\n",
    "from sklearn.model_selection import train_test_split\n",
    "from sklearn import tree\n",
    "import warnings\n",
    "warnings.filterwarnings(\"ignore\") \n",
    "from keras.layers.core import Dense, Activation, Dropout\n",
    "from keras.layers.recurrent import LSTM\n",
    "from keras.models import Sequential\n",
    "import time\n",
    "from sklearn.metrics import mean_squared_error\n",
    "from matplotlib import pyplot\n",
    "from sklearn.preprocessing import StandardScaler\n",
    "\n",
    "print (\"Libraries Imported\")"
   ]
  },
  {
   "cell_type": "markdown",
   "metadata": {},
   "source": [
    "## Load the data"
   ]
  },
  {
   "cell_type": "code",
   "execution_count": 3,
   "metadata": {},
   "outputs": [
    {
     "name": "stdout",
     "output_type": "stream",
     "text": [
      "Loaded the data\n"
     ]
    }
   ],
   "source": [
    "data= pd.read_csv('Data.csv')\n",
    "\n",
    "print (\"Loaded the data\")"
   ]
  },
  {
   "cell_type": "markdown",
   "metadata": {},
   "source": [
    "The curve corresponding to the sum of the product of one type sold in a week"
   ]
  },
  {
   "cell_type": "code",
   "execution_count": 5,
   "metadata": {},
   "outputs": [
    {
     "name": "stdout",
     "output_type": "stream",
     "text": [
      "The curve corresponding to the sum of the product of one type sold in a week\n"
     ]
    },
    {
     "data": {
      "text/plain": [
       "[<matplotlib.lines.Line2D at 0x7f8191b31f98>]"
      ]
     },
     "execution_count": 5,
     "metadata": {},
     "output_type": "execute_result"
    },
    {
     "data": {
      "image/png": "[encoded data removed]",
      "text/plain": [
       "<matplotlib.figure.Figure at 0x7f8191b6b5c0>"
      ]
     },
     "metadata": {},
     "output_type": "display_data"
    }
   ],
   "source": [
    "print (\"The curve corresponding to the sum of the product of one type sold in a week\")\n",
    "plt.plot(data[data['brand']=='Health_Drink_A'].groupby(by='week')['week'].sum())"
   ]
  },
  {
   "cell_type": "code",
   "execution_count": 6,
   "metadata": {},
   "outputs": [
    {
     "name": "stdout",
     "output_type": "stream",
     "text": [
      "   store           brand  week  Unit_Sold  Adv  Price       AGE       EDU  \\\n",
      "0      2  Health_Drink_A    40   9.018695    0   3.87  0.232865  0.248935   \n",
      "1      2  Health_Drink_A    46   8.723231    0   3.87  0.232865  0.248935   \n",
      "2      2  Health_Drink_A    47   8.253228    0   3.87  0.232865  0.248935   \n",
      "3      2  Health_Drink_A    48   8.987197    0   3.87  0.232865  0.248935   \n",
      "4      2  Health_Drink_A    50   9.093357    0   3.87  0.232865  0.248935   \n",
      "\n",
      "   ETHNICITY     INCOME  Household  WOMENWORK     VALUE  WAREHOUSE_DIST  \\\n",
      "0    0.11428  10.553205   0.103953   0.303585  0.463887        2.110122   \n",
      "1    0.11428  10.553205   0.103953   0.303585  0.463887        2.110122   \n",
      "2    0.11428  10.553205   0.103953   0.303585  0.463887        2.110122   \n",
      "3    0.11428  10.553205   0.103953   0.303585  0.463887        2.110122   \n",
      "4    0.11428  10.553205   0.103953   0.303585  0.463887        2.110122   \n",
      "\n",
      "    RATIO_1  SUPERMARKET_DIST   RATIO_2  \n",
      "0  1.142857           1.92728  0.376927  \n",
      "1  1.142857           1.92728  0.376927  \n",
      "2  1.142857           1.92728  0.376927  \n",
      "3  1.142857           1.92728  0.376927  \n",
      "4  1.142857           1.92728  0.376927  \n"
     ]
    }
   ],
   "source": [
    "print (data.head())"
   ]
  },
  {
   "cell_type": "code",
   "execution_count": 7,
   "metadata": {
    "scrolled": false
   },
   "outputs": [
    {
     "name": "stdout",
     "output_type": "stream",
     "text": [
      "Information of the data\n",
      "Index(['store', 'brand', 'week', 'Unit_Sold', 'Adv', 'Price', 'AGE', 'EDU',\n",
      "       'ETHNICITY', 'INCOME', 'Household', 'WOMENWORK', 'VALUE',\n",
      "       'WAREHOUSE_DIST', 'RATIO_1', 'SUPERMARKET_DIST', 'RATIO_2'],\n",
      "      dtype='object')\n",
      "<class 'pandas.core.frame.DataFrame'>\n",
      "RangeIndex: 28947 entries, 0 to 28946\n",
      "Data columns (total 17 columns):\n",
      "store               28947 non-null int64\n",
      "brand               28947 non-null object\n",
      "week                28947 non-null int64\n",
      "Unit_Sold           28947 non-null float64\n",
      "Adv                 28947 non-null int64\n",
      "Price               28947 non-null float64\n",
      "AGE                 28947 non-null float64\n",
      "EDU                 28947 non-null float64\n",
      "ETHNICITY           28947 non-null float64\n",
      "INCOME              28947 non-null float64\n",
      "Household           28947 non-null float64\n",
      "WOMENWORK           28947 non-null float64\n",
      "VALUE               28947 non-null float64\n",
      "WAREHOUSE_DIST      28947 non-null float64\n",
      "RATIO_1             28947 non-null float64\n",
      "SUPERMARKET_DIST    28947 non-null float64\n",
      "RATIO_2             28947 non-null float64\n",
      "dtypes: float64(13), int64(3), object(1)\n",
      "memory usage: 3.8+ MB\n",
      "None\n"
     ]
    }
   ],
   "source": [
    "print (\"Information of the data\")\n",
    "\n",
    "print (data.columns)\n",
    "print (data.info())"
   ]
  },
  {
   "cell_type": "markdown",
   "metadata": {},
   "source": [
    "No missing value is found in the data"
   ]
  },
  {
   "cell_type": "markdown",
   "metadata": {},
   "source": [
    "Pivot table of the data."
   ]
  },
  {
   "cell_type": "code",
   "execution_count": 8,
   "metadata": {},
   "outputs": [
    {
     "data": {
      "text/html": [
       "<div>\n",
       "<style scoped>\n",
       "    .dataframe tbody tr th:only-of-type {\n",
       "        vertical-align: middle;\n",
       "    }\n",
       "\n",
       "    .dataframe tbody tr th {\n",
       "        vertical-align: top;\n",
       "    }\n",
       "\n",
       "    .dataframe thead th {\n",
       "        text-align: right;\n",
       "    }\n",
       "</style>\n",
       "<table border=\"1\" class=\"dataframe\">\n",
       "  <thead>\n",
       "    <tr style=\"text-align: right;\">\n",
       "      <th>store</th>\n",
       "      <th>2</th>\n",
       "      <th>5</th>\n",
       "      <th>8</th>\n",
       "      <th>9</th>\n",
       "      <th>12</th>\n",
       "      <th>14</th>\n",
       "      <th>18</th>\n",
       "      <th>21</th>\n",
       "      <th>28</th>\n",
       "      <th>32</th>\n",
       "      <th>...</th>\n",
       "      <th>123</th>\n",
       "      <th>124</th>\n",
       "      <th>126</th>\n",
       "      <th>128</th>\n",
       "      <th>129</th>\n",
       "      <th>130</th>\n",
       "      <th>131</th>\n",
       "      <th>132</th>\n",
       "      <th>134</th>\n",
       "      <th>137</th>\n",
       "    </tr>\n",
       "    <tr>\n",
       "      <th>brand</th>\n",
       "      <th></th>\n",
       "      <th></th>\n",
       "      <th></th>\n",
       "      <th></th>\n",
       "      <th></th>\n",
       "      <th></th>\n",
       "      <th></th>\n",
       "      <th></th>\n",
       "      <th></th>\n",
       "      <th></th>\n",
       "      <th></th>\n",
       "      <th></th>\n",
       "      <th></th>\n",
       "      <th></th>\n",
       "      <th></th>\n",
       "      <th></th>\n",
       "      <th></th>\n",
       "      <th></th>\n",
       "      <th></th>\n",
       "      <th></th>\n",
       "      <th></th>\n",
       "    </tr>\n",
       "  </thead>\n",
       "  <tbody>\n",
       "    <tr>\n",
       "      <th>Health_Drink_A</th>\n",
       "      <td>1014.915794</td>\n",
       "      <td>1071.300755</td>\n",
       "      <td>1094.579809</td>\n",
       "      <td>1103.456712</td>\n",
       "      <td>1094.832131</td>\n",
       "      <td>1114.867060</td>\n",
       "      <td>1052.875822</td>\n",
       "      <td>1023.006854</td>\n",
       "      <td>1014.184108</td>\n",
       "      <td>1161.497311</td>\n",
       "      <td>...</td>\n",
       "      <td>1105.104759</td>\n",
       "      <td>1109.121946</td>\n",
       "      <td>1100.304256</td>\n",
       "      <td>1163.158770</td>\n",
       "      <td>1073.401918</td>\n",
       "      <td>1026.995720</td>\n",
       "      <td>1060.637988</td>\n",
       "      <td>1113.020537</td>\n",
       "      <td>747.049767</td>\n",
       "      <td>1013.749379</td>\n",
       "    </tr>\n",
       "    <tr>\n",
       "      <th>Health_Drink_B</th>\n",
       "      <td>1000.026131</td>\n",
       "      <td>1084.793548</td>\n",
       "      <td>1128.880679</td>\n",
       "      <td>1076.499330</td>\n",
       "      <td>1109.250802</td>\n",
       "      <td>1075.601694</td>\n",
       "      <td>1069.011723</td>\n",
       "      <td>1081.985543</td>\n",
       "      <td>1018.273336</td>\n",
       "      <td>1148.065701</td>\n",
       "      <td>...</td>\n",
       "      <td>1136.127301</td>\n",
       "      <td>1126.767738</td>\n",
       "      <td>1111.995761</td>\n",
       "      <td>1154.881370</td>\n",
       "      <td>1063.100015</td>\n",
       "      <td>1085.807564</td>\n",
       "      <td>1079.009361</td>\n",
       "      <td>1151.142141</td>\n",
       "      <td>749.215151</td>\n",
       "      <td>961.353783</td>\n",
       "    </tr>\n",
       "    <tr>\n",
       "      <th>Health_Drink_C</th>\n",
       "      <td>998.131226</td>\n",
       "      <td>1037.112012</td>\n",
       "      <td>1164.658095</td>\n",
       "      <td>1041.365046</td>\n",
       "      <td>1078.787392</td>\n",
       "      <td>1004.822754</td>\n",
       "      <td>1069.317228</td>\n",
       "      <td>1117.746764</td>\n",
       "      <td>975.657296</td>\n",
       "      <td>1132.170266</td>\n",
       "      <td>...</td>\n",
       "      <td>1123.616616</td>\n",
       "      <td>1165.578336</td>\n",
       "      <td>1075.701830</td>\n",
       "      <td>1129.760236</td>\n",
       "      <td>1017.751341</td>\n",
       "      <td>1137.436575</td>\n",
       "      <td>1066.437882</td>\n",
       "      <td>1191.534453</td>\n",
       "      <td>765.905238</td>\n",
       "      <td>945.489985</td>\n",
       "    </tr>\n",
       "  </tbody>\n",
       "</table>\n",
       "<p>3 rows × 83 columns</p>\n",
       "</div>"
      ],
      "text/plain": [
       "store                   2            5            8            9    \\\n",
       "brand                                                                \n",
       "Health_Drink_A  1014.915794  1071.300755  1094.579809  1103.456712   \n",
       "Health_Drink_B  1000.026131  1084.793548  1128.880679  1076.499330   \n",
       "Health_Drink_C   998.131226  1037.112012  1164.658095  1041.365046   \n",
       "\n",
       "store                   12           14           18           21   \\\n",
       "brand                                                                \n",
       "Health_Drink_A  1094.832131  1114.867060  1052.875822  1023.006854   \n",
       "Health_Drink_B  1109.250802  1075.601694  1069.011723  1081.985543   \n",
       "Health_Drink_C  1078.787392  1004.822754  1069.317228  1117.746764   \n",
       "\n",
       "store                   28           32      ...               123  \\\n",
       "brand                                        ...                     \n",
       "Health_Drink_A  1014.184108  1161.497311     ...       1105.104759   \n",
       "Health_Drink_B  1018.273336  1148.065701     ...       1136.127301   \n",
       "Health_Drink_C   975.657296  1132.170266     ...       1123.616616   \n",
       "\n",
       "store                   124          126          128          129  \\\n",
       "brand                                                                \n",
       "Health_Drink_A  1109.121946  1100.304256  1163.158770  1073.401918   \n",
       "Health_Drink_B  1126.767738  1111.995761  1154.881370  1063.100015   \n",
       "Health_Drink_C  1165.578336  1075.701830  1129.760236  1017.751341   \n",
       "\n",
       "store                   130          131          132         134          137  \n",
       "brand                                                                           \n",
       "Health_Drink_A  1026.995720  1060.637988  1113.020537  747.049767  1013.749379  \n",
       "Health_Drink_B  1085.807564  1079.009361  1151.142141  749.215151   961.353783  \n",
       "Health_Drink_C  1137.436575  1066.437882  1191.534453  765.905238   945.489985  \n",
       "\n",
       "[3 rows x 83 columns]"
      ]
     },
     "execution_count": 8,
     "metadata": {},
     "output_type": "execute_result"
    }
   ],
   "source": [
    "pd.pivot_table(data, values='Unit_Sold', index=['brand'],columns=['store'], aggfunc=np.sum)"
   ]
  },
  {
   "cell_type": "markdown",
   "metadata": {},
   "source": [
    "## Correlation Study"
   ]
  },
  {
   "cell_type": "code",
   "execution_count": 9,
   "metadata": {
    "scrolled": true
   },
   "outputs": [
    {
     "name": "stdout",
     "output_type": "stream",
     "text": [
      "Correlation of the unit sold with different parameters\n"
     ]
    },
    {
     "data": {
      "text/plain": [
       "Price              -0.431983\n",
       "RATIO_2            -0.119064\n",
       "RATIO_1            -0.089882\n",
       "WOMENWORK          -0.080538\n",
       "Household          -0.057259\n",
       "INCOME             -0.042779\n",
       "WAREHOUSE_DIST     -0.002407\n",
       "EDU                 0.004551\n",
       "SUPERMARKET_DIST    0.016780\n",
       "VALUE               0.017664\n",
       "store               0.036128\n",
       "ETHNICITY           0.059867\n",
       "AGE                 0.092050\n",
       "week                0.102638\n",
       "Adv                 0.536297\n",
       "Unit_Sold           1.000000\n",
       "Name: Unit_Sold, dtype: float64"
      ]
     },
     "execution_count": 9,
     "metadata": {},
     "output_type": "execute_result"
    }
   ],
   "source": [
    "print (\"Correlation of the unit sold with different parameters\")\n",
    "data.corr()['Unit_Sold'].sort_values()"
   ]
  },
  {
   "cell_type": "markdown",
   "metadata": {},
   "source": [
    "The following block gives a correlation between the unit sold and different parameters for each of the product. This gives an idea of the relation between the unit sold and the important parameters affecting them."
   ]
  },
  {
   "cell_type": "code",
   "execution_count": 10,
   "metadata": {
    "scrolled": false
   },
   "outputs": [
    {
     "name": "stdout",
     "output_type": "stream",
     "text": [
      "Correlation for Health_Drink_A\n",
      "Price              -0.632457\n",
      "Household          -0.226504\n",
      "RATIO_1            -0.206945\n",
      "RATIO_2            -0.099792\n",
      "ETHNICITY          -0.055083\n",
      "WAREHOUSE_DIST     -0.051154\n",
      "SUPERMARKET_DIST   -0.024051\n",
      "WOMENWORK          -0.020918\n",
      "store              -0.009784\n",
      "INCOME              0.094921\n",
      "AGE                 0.144482\n",
      "week                0.169413\n",
      "EDU                 0.219057\n",
      "VALUE               0.273371\n",
      "Adv                 0.474566\n",
      "Unit_Sold           1.000000\n",
      "Name: Unit_Sold, dtype: float64\n",
      "-->Unit_Sold is positive correleated with demographic like EDU and negative correlated with demographic like household\n",
      "                                   Heat Map of A\n"
     ]
    },
    {
     "data": {
      "image/png": "[encoded data removed]",
      "text/plain": [
       "<matplotlib.figure.Figure at 0x7f8191ab0780>"
      ]
     },
     "metadata": {},
     "output_type": "display_data"
    },
    {
     "name": "stdout",
     "output_type": "stream",
     "text": [
      "Correlation for Health_Drink_B\n",
      "Price              -0.593550\n",
      "RATIO_2            -0.116209\n",
      "RATIO_1            -0.077139\n",
      "WOMENWORK          -0.064566\n",
      "Household          -0.055813\n",
      "INCOME             -0.018665\n",
      "SUPERMARKET_DIST    0.008250\n",
      "week                0.009678\n",
      "WAREHOUSE_DIST      0.022854\n",
      "EDU                 0.031293\n",
      "store               0.037626\n",
      "VALUE               0.042352\n",
      "ETHNICITY           0.057472\n",
      "AGE                 0.079750\n",
      "Adv                 0.663240\n",
      "Unit_Sold           1.000000\n",
      "Name: Unit_Sold, dtype: float64\n",
      "-->Unit_Sold is positive correleated with demographic like Age and negative correlated with demographic like Womenwork\n",
      "                                   Heat Map of B\n"
     ]
    },
    {
     "data": {
      "image/png": "[encoded data removed]",
      "text/plain": [
       "<matplotlib.figure.Figure at 0x7f818f6adda0>"
      ]
     },
     "metadata": {},
     "output_type": "display_data"
    },
    {
     "name": "stdout",
     "output_type": "stream",
     "text": [
      "Correlation for Health_Drink_C\n",
      "Price              -0.622544\n",
      "VALUE              -0.183881\n",
      "EDU                -0.169781\n",
      "INCOME             -0.161678\n",
      "RATIO_2            -0.138369\n",
      "WOMENWORK          -0.138282\n",
      "RATIO_1            -0.019712\n",
      "WAREHOUSE_DIST      0.011290\n",
      "SUPERMARKET_DIST    0.053288\n",
      "Household           0.060199\n",
      "AGE                 0.067483\n",
      "store               0.068492\n",
      "week                0.134792\n",
      "ETHNICITY           0.145136\n",
      "Adv                 0.470454\n",
      "Unit_Sold           1.000000\n",
      "Name: Unit_Sold, dtype: float64\n",
      "-->Unit_Sold is positive correleated with demographic like Ethinicity and negative correlated with demographic like EDU\n",
      "                                   Heat Map of C\n"
     ]
    },
    {
     "data": {
      "image/png": "[encoded data removed]",
      "text/plain": [
       "<matplotlib.figure.Figure at 0x7f818f6adb70>"
      ]
     },
     "metadata": {},
     "output_type": "display_data"
    }
   ],
   "source": [
    "#Demographic factors influence the sale of three brands of health drinks\n",
    "\n",
    "print(\"Correlation for Health_Drink_A\")\n",
    "\n",
    "data_corr = data[data['brand']== 'Health_Drink_A']\n",
    "\n",
    "print (data_corr.corr()['Unit_Sold'].sort_values())\n",
    "\n",
    "f, ax = plt.subplots(figsize=(12,10))\n",
    "corr = data_corr.corr()\n",
    "sns.heatmap(corr, mask=np.zeros_like(corr, dtype=np.bool), cmap=sns.diverging_palette(220, 10, as_cmap=True),\n",
    "            square=True, ax=ax)\n",
    "\n",
    "print(\"-->Unit_Sold is positive correleated with demographic like EDU and negative correlated with demographic like household\")\n",
    "\n",
    "print(\"                                   Heat Map of A\")\n",
    "plt.show()\n",
    "\n",
    "print(\"Correlation for Health_Drink_B\")\n",
    "\n",
    "data_corr = data[data['brand']== 'Health_Drink_B']\n",
    "\n",
    "print (data_corr.corr()['Unit_Sold'].sort_values())\n",
    "\n",
    "f, ax = plt.subplots(figsize=(12,10))\n",
    "corr = data_corr.corr()\n",
    "sns.heatmap(corr, mask=np.zeros_like(corr, dtype=np.bool), cmap=sns.diverging_palette(220, 10, as_cmap=True),\n",
    "            square=True, ax=ax)\n",
    "print(\"-->Unit_Sold is positive correleated with demographic like Age and negative correlated with demographic like Womenwork\")\n",
    "\n",
    "print(\"                                   Heat Map of B\")\n",
    "plt.show()\n",
    "\n",
    "print(\"Correlation for Health_Drink_C\")\n",
    "data_corr = data[data['brand']== 'Health_Drink_C']\n",
    "\n",
    "print (data_corr.corr()['Unit_Sold'].sort_values())\n",
    "\n",
    "f, ax = plt.subplots(figsize=(12,10))\n",
    "corr = data_corr.corr()\n",
    "sns.heatmap(corr, mask=np.zeros_like(corr, dtype=np.bool), cmap=sns.diverging_palette(220, 10, as_cmap=True),\n",
    "            square=True, ax=ax)\n",
    "print(\"-->Unit_Sold is positive correleated with demographic like Ethinicity and negative correlated with demographic like EDU\")\n",
    "\n",
    "print(\"                                   Heat Map of C\")\n",
    "plt.show()"
   ]
  },
  {
   "cell_type": "markdown",
   "metadata": {},
   "source": [
    "The next block shows the correlation between the price of the product and the unit sold as a function of the demographic factor. This gives an insight into how the correlation varies with the parameter being studied."
   ]
  },
  {
   "cell_type": "code",
   "execution_count": 11,
   "metadata": {},
   "outputs": [
    {
     "name": "stdout",
     "output_type": "stream",
     "text": [
      "Print Maximum value in age: 0.5283620139999999\n",
      "Print Minimum value in age: 0.049550286\n",
      "Length 2436\n",
      "Correlation -0.5550964897051759\n",
      "Length 2475\n",
      "Correlation -0.5899891875328314\n",
      "Length 1728\n",
      "Correlation -0.5851736796453336\n",
      "Length 4176\n",
      "Correlation -0.4925230462197406\n",
      "Length 1764\n",
      "Correlation -0.4977153171590141\n",
      "Length 3162\n",
      "Correlation -0.35793321786470644\n",
      "Length 4488\n",
      "Correlation -0.4611514499945868\n",
      "Length 2130\n",
      "Correlation -0.2858227741917693\n",
      "Length 2097\n",
      "Correlation -0.336671585920326\n",
      "Length 1041\n",
      "Correlation -0.29360270386455456\n",
      "Length 687\n",
      "Correlation -0.21475943955255164\n",
      "Length 1404\n",
      "Correlation -0.3651846174482259\n",
      "Length 0\n",
      "Correlation nan\n",
      "Length 357\n",
      "Correlation -0.10898005578952212\n"
     ]
    }
   ],
   "source": [
    "#Price sensitivity associated with store demographics, eg: EDU\n",
    "num_blocks = 15\n",
    "param = 'EDU'\n",
    "corr_array = []\n",
    "\n",
    "\n",
    "print (\"Print Maximum value in age:\", data[param].max())\n",
    "print (\"Print Minimum value in age:\", data[param].min())\n",
    "\n",
    "diff = (data[param].max() - data[param].min())/num_blocks\n",
    "\n",
    "for i in range(1, num_blocks):\n",
    "    temp = data[(data[param]>(data[param].min() + diff*(i-1))) & (data[param]<(data[param].min()+diff*i))]\n",
    "    print ('Length' , temp.shape[0])\n",
    "    \n",
    "    corr = temp['Unit_Sold'].corr(temp['Price'])\n",
    "    corr_array.append(corr)\n",
    "    \n",
    "    print ('Correlation', corr)"
   ]
  },
  {
   "cell_type": "markdown",
   "metadata": {},
   "source": [
    "The plot of the correlation as the function of the parameter."
   ]
  },
  {
   "cell_type": "code",
   "execution_count": 12,
   "metadata": {},
   "outputs": [
    {
     "name": "stdout",
     "output_type": "stream",
     "text": [
      "In image at first Correlation with EDU is positive but with time correlation become negative\n"
     ]
    },
    {
     "data": {
      "image/png": "[encoded data removed]",
      "text/plain": [
       "<matplotlib.figure.Figure at 0x7f819a414b70>"
      ]
     },
     "metadata": {},
     "output_type": "display_data"
    }
   ],
   "source": [
    "plt.plot(corr_array)\n",
    "print(\"In image at first Correlation with EDU is positive but with time correlation become negative\")"
   ]
  },
  {
   "cell_type": "code",
   "execution_count": 13,
   "metadata": {},
   "outputs": [
    {
     "data": {
      "text/plain": [
       "Index(['store', 'brand', 'week', 'Unit_Sold', 'Adv', 'Price', 'AGE', 'EDU',\n",
       "       'ETHNICITY', 'INCOME', 'Household', 'WOMENWORK', 'VALUE',\n",
       "       'WAREHOUSE_DIST', 'RATIO_1', 'SUPERMARKET_DIST', 'RATIO_2'],\n",
       "      dtype='object')"
      ]
     },
     "execution_count": 13,
     "metadata": {},
     "output_type": "execute_result"
    }
   ],
   "source": [
    "data.columns"
   ]
  },
  {
   "cell_type": "code",
   "execution_count": 14,
   "metadata": {
    "collapsed": true
   },
   "outputs": [],
   "source": [
    "x_train_ = data[['store', 'brand', 'week', 'Adv', 'Price', 'AGE', 'EDU',\n",
    "       'ETHNICITY', 'INCOME', 'Household', 'WOMENWORK', 'VALUE',\n",
    "       'WAREHOUSE_DIST', 'RATIO_1', 'SUPERMARKET_DIST', 'RATIO_2']]\n",
    "y_train_ = data['Unit_Sold']"
   ]
  },
  {
   "cell_type": "code",
   "execution_count": 15,
   "metadata": {
    "collapsed": true
   },
   "outputs": [],
   "source": [
    "le= LabelEncoder()\n",
    "x_train_['brand'] = le.fit_transform(x_train_['brand'])"
   ]
  },
  {
   "cell_type": "code",
   "execution_count": 16,
   "metadata": {},
   "outputs": [
    {
     "data": {
      "text/plain": [
       "1.0250957368843323"
      ]
     },
     "execution_count": 16,
     "metadata": {},
     "output_type": "execute_result"
    }
   ],
   "source": [
    "#baseline\n",
    "X_train, X_test, y_train, y_test = train_test_split(x_train_, y_train_, test_size=0.02)\n",
    "base = [np.average(y_test)]*y_test.shape[0]\n",
    "np.sqrt(mean_squared_error(base, y_test))"
   ]
  },
  {
   "cell_type": "code",
   "execution_count": null,
   "metadata": {
    "collapsed": true
   },
   "outputs": [],
   "source": []
  },
  {
   "cell_type": "markdown",
   "metadata": {},
   "source": [
    "## Machine Learning Models\n",
    "Application of different models to predict the unit sold on any future day"
   ]
  },
  {
   "cell_type": "code",
   "execution_count": 17,
   "metadata": {},
   "outputs": [
    {
     "name": "stdout",
     "output_type": "stream",
     "text": [
      "0.5311705001970192\n"
     ]
    }
   ],
   "source": [
    "#descision tree\n",
    "tr = tree.DecisionTreeRegressor()\n",
    "tr = tr.fit(X_train, y_train)\n",
    "predict2 = tr.predict(X_test)\n",
    "print (np.sqrt(mean_squared_error(predict2, y_test)))"
   ]
  },
  {
   "cell_type": "code",
   "execution_count": 18,
   "metadata": {},
   "outputs": [
    {
     "name": "stdout",
     "output_type": "stream",
     "text": [
      "0.42921934106397863\n"
     ]
    }
   ],
   "source": [
    "#Random forest\n",
    "rf = RandomForestRegressor(n_estimators=10)\n",
    "rf = rf.fit(X_train, y_train)\n",
    "predict1 = rf.predict(X_test)\n",
    "print (np.sqrt(mean_squared_error(predict1, y_test)))"
   ]
  },
  {
   "cell_type": "code",
   "execution_count": 19,
   "metadata": {},
   "outputs": [
    {
     "name": "stdout",
     "output_type": "stream",
     "text": [
      "0.4177243304444583\n"
     ]
    }
   ],
   "source": [
    "#XGBoost\n",
    "X_train, X_test, y_train, y_test = train_test_split(x_train_, y_train_, test_size=0.02)\n",
    "\n",
    "model = xgb.XGBRegressor(max_depth=6)\n",
    "model.fit(X_train, y_train)\n",
    "predict3 = model.predict(X_test)\n",
    "print (np.sqrt(mean_squared_error(predict3, y_test)))"
   ]
  },
  {
   "cell_type": "code",
   "execution_count": 20,
   "metadata": {
    "collapsed": true
   },
   "outputs": [],
   "source": [
    "data= pd.read_csv('Data.csv')"
   ]
  },
  {
   "cell_type": "markdown",
   "metadata": {},
   "source": [
    "Select the product and the store to apply lstm for future prediction."
   ]
  },
  {
   "cell_type": "markdown",
   "metadata": {},
   "source": [
    "## Deep Learning Model prediction"
   ]
  },
  {
   "cell_type": "code",
   "execution_count": 21,
   "metadata": {
    "collapsed": true
   },
   "outputs": [],
   "source": [
    "store = 2\n",
    "brand = 'Health_Drink_A'\n",
    "\n",
    "train = data[(data['store']==store) & (data['brand']==brand)]"
   ]
  },
  {
   "cell_type": "code",
   "execution_count": 22,
   "metadata": {
    "collapsed": true
   },
   "outputs": [],
   "source": [
    "data = []\n",
    "pos = 0\n",
    "\n",
    "for i in range(train.iloc[0]['week'], train.iloc[train.shape[0] - 1]['week']+1):\n",
    "    if (train.iloc[pos]['week'] == i):\n",
    "        data.append(train.iloc[pos]['Unit_Sold'])\n",
    "        pos =pos+1\n",
    "        \n",
    "    else:\n",
    "        data.append(data[-1])"
   ]
  },
  {
   "cell_type": "code",
   "execution_count": 23,
   "metadata": {
    "collapsed": true
   },
   "outputs": [],
   "source": [
    "data = pd.Series(data)"
   ]
  },
  {
   "cell_type": "markdown",
   "metadata": {},
   "source": [
    "In the following cell the data for being fed to the LSTM is prepared. 10 objects are taken in a row and the tenth one is predicted with the help of the 9 previous data point."
   ]
  },
  {
   "cell_type": "code",
   "execution_count": 24,
   "metadata": {
    "collapsed": true
   },
   "outputs": [],
   "source": [
    "series = pd.DataFrame()\n",
    "window_size = 10\n",
    "\n",
    "series_s = data.copy()\n",
    "for i in range(window_size):\n",
    "    series = pd.concat([series, series_s.shift(-(i+1))], axis = 1)\n",
    "    \n",
    "series.dropna(axis=0, inplace=True)"
   ]
  },
  {
   "cell_type": "markdown",
   "metadata": {},
   "source": [
    "Split the data into test and train."
   ]
  },
  {
   "cell_type": "code",
   "execution_count": 25,
   "metadata": {
    "collapsed": true
   },
   "outputs": [],
   "source": [
    "nrow = round(0.8*series.shape[0])"
   ]
  },
  {
   "cell_type": "code",
   "execution_count": 26,
   "metadata": {
    "collapsed": true
   },
   "outputs": [],
   "source": [
    "train = series.iloc[:nrow, :]\n",
    "test = series.iloc[nrow:,:]\n"
   ]
  },
  {
   "cell_type": "code",
   "execution_count": 27,
   "metadata": {
    "collapsed": true
   },
   "outputs": [],
   "source": [
    "from sklearn.utils import shuffle\n",
    "train = shuffle(train)"
   ]
  },
  {
   "cell_type": "code",
   "execution_count": 29,
   "metadata": {
    "collapsed": true
   },
   "outputs": [],
   "source": [
    "train_X = train.iloc[:,:-1]\n",
    "train_y = train.iloc[:,-1]\n",
    "test_X = test.iloc[:,:-1]\n",
    "test_y = test.iloc[:,-1]\n"
   ]
  },
  {
   "cell_type": "code",
   "execution_count": 30,
   "metadata": {
    "collapsed": true
   },
   "outputs": [],
   "source": [
    "train_X = train_X.values\n",
    "train_y = train_y.values\n",
    "test_X = test_X.values\n",
    "test_y = test_y.values"
   ]
  },
  {
   "cell_type": "code",
   "execution_count": 32,
   "metadata": {},
   "outputs": [
    {
     "name": "stdout",
     "output_type": "stream",
     "text": [
      "(89, 9)\n",
      "(89,)\n",
      "(22, 9)\n",
      "(22,)\n"
     ]
    }
   ],
   "source": [
    "print (train_X.shape)\n",
    "print (train_y.shape)\n",
    "print (test_X.shape)\n",
    "print (test_y.shape)"
   ]
  },
  {
   "cell_type": "code",
   "execution_count": 33,
   "metadata": {
    "collapsed": true
   },
   "outputs": [],
   "source": [
    "train_X = train_X.reshape(train_X.shape[0],train_X.shape[1],1)\n",
    "test_X = test_X.reshape(test_X.shape[0],test_X.shape[1],1)"
   ]
  },
  {
   "cell_type": "code",
   "execution_count": 34,
   "metadata": {},
   "outputs": [
    {
     "name": "stdout",
     "output_type": "stream",
     "text": [
      "(89, 9, 1)\n",
      "(89,)\n",
      "(22, 9, 1)\n",
      "(22,)\n"
     ]
    }
   ],
   "source": [
    "print (train_X.shape)\n",
    "print (train_y.shape)\n",
    "print (test_X.shape)\n",
    "print (test_y.shape)"
   ]
  },
  {
   "cell_type": "code",
   "execution_count": 46,
   "metadata": {},
   "outputs": [
    {
     "name": "stdout",
     "output_type": "stream",
     "text": [
      "_________________________________________________________________\n",
      "Layer (type)                 Output Shape              Param #   \n",
      "=================================================================\n",
      "lstm_3 (LSTM)                (None, 9, 50)             10400     \n",
      "_________________________________________________________________\n",
      "lstm_4 (LSTM)                (None, 64)                29440     \n",
      "_________________________________________________________________\n",
      "dropout_2 (Dropout)          (None, 64)                0         \n",
      "_________________________________________________________________\n",
      "dense_2 (Dense)              (None, 1)                 65        \n",
      "_________________________________________________________________\n",
      "activation_2 (Activation)    (None, 1)                 0         \n",
      "=================================================================\n",
      "Total params: 39,905\n",
      "Trainable params: 39,905\n",
      "Non-trainable params: 0\n",
      "_________________________________________________________________\n"
     ]
    }
   ],
   "source": [
    "# Define the LSTM model\n",
    "model = Sequential()\n",
    "model.add(LSTM(input_shape = (9,1), output_dim= 50, return_sequences = True))\n",
    "model.add(LSTM(64))\n",
    "model.add(Dropout(0.5))\n",
    "model.add(Dense(1))\n",
    "model.add(Activation(\"linear\"))\n",
    "model.compile(loss=\"mse\", optimizer=\"adam\")\n",
    "model.summary()"
   ]
  },
  {
   "cell_type": "markdown",
   "metadata": {},
   "source": [
    "Train the model"
   ]
  },
  {
   "cell_type": "code",
   "execution_count": 47,
   "metadata": {},
   "outputs": [
    {
     "name": "stdout",
     "output_type": "stream",
     "text": [
      "Train on 80 samples, validate on 9 samples\n",
      "Epoch 1/10\n",
      "80/80 [==============================] - 1s 12ms/step - loss: 80.5413 - val_loss: 68.0393\n",
      "Epoch 2/10\n",
      "80/80 [==============================] - 0s 760us/step - loss: 67.7370 - val_loss: 56.2372\n",
      "Epoch 3/10\n",
      "80/80 [==============================] - 0s 704us/step - loss: 56.5494 - val_loss: 44.7049\n",
      "Epoch 4/10\n",
      "80/80 [==============================] - 0s 707us/step - loss: 44.3749 - val_loss: 34.1853\n",
      "Epoch 5/10\n",
      "80/80 [==============================] - 0s 779us/step - loss: 35.6683 - val_loss: 25.2204\n",
      "Epoch 6/10\n",
      "80/80 [==============================] - 0s 741us/step - loss: 26.0984 - val_loss: 17.6246\n",
      "Epoch 7/10\n",
      "80/80 [==============================] - 0s 814us/step - loss: 19.2615 - val_loss: 11.3389\n",
      "Epoch 8/10\n",
      "80/80 [==============================] - 0s 640us/step - loss: 11.9878 - val_loss: 6.3515\n",
      "Epoch 9/10\n",
      "80/80 [==============================] - 0s 858us/step - loss: 8.2504 - val_loss: 2.9505\n",
      "Epoch 10/10\n",
      "80/80 [==============================] - 0s 719us/step - loss: 4.0175 - val_loss: 1.1376\n",
      "> Compilation Time :  2.64133358001709\n"
     ]
    }
   ],
   "source": [
    "start = time.time()\n",
    "model.fit(train_X,train_y,batch_size=32,nb_epoch=10,validation_split=0.1)\n",
    "print(\"> Compilation Time : \", time.time() - start)"
   ]
  },
  {
   "cell_type": "code",
   "execution_count": 48,
   "metadata": {
    "collapsed": true
   },
   "outputs": [],
   "source": [
    "preds = model.predict(test_X)\n",
    "actuals = test_y"
   ]
  },
  {
   "cell_type": "code",
   "execution_count": 49,
   "metadata": {},
   "outputs": [
    {
     "name": "stdout",
     "output_type": "stream",
     "text": [
      "Error---> 1.211833207365248\n"
     ]
    }
   ],
   "source": [
    "print ('Error--->' , np.sqrt(mean_squared_error(actuals,preds)))"
   ]
  },
  {
   "cell_type": "markdown",
   "metadata": {},
   "source": [
    "The next two plots are of the actual and the predicted value for future days. The plots come out to be similar."
   ]
  },
  {
   "cell_type": "code",
   "execution_count": 50,
   "metadata": {},
   "outputs": [
    {
     "data": {
      "image/png": "[encoded data removed]",
      "text/plain": [
       "<matplotlib.figure.Figure at 0x7f818c312320>"
      ]
     },
     "metadata": {},
     "output_type": "display_data"
    }
   ],
   "source": [
    "pyplot.plot(actuals)\n",
    "pyplot.show()"
   ]
  },
  {
   "cell_type": "code",
   "execution_count": 51,
   "metadata": {},
   "outputs": [
    {
     "data": {
      "image/png": "[encoded data removed]",
      "text/plain": [
       "<matplotlib.figure.Figure at 0x7f818c32eb38>"
      ]
     },
     "metadata": {},
     "output_type": "display_data"
    }
   ],
   "source": [
    "pyplot.plot(preds)\n",
    "pyplot.show()"
   ]
  }
 ],
 "metadata": {
  "kernelspec": {
   "display_name": "Python 3",
   "language": "python",
   "name": "python3"
  },
  "language_info": {
   "codemirror_mode": {
    "name": "ipython",
    "version": 3
   },
   "file_extension": ".py",
   "mimetype": "text/x-python",
   "name": "python",
   "nbconvert_exporter": "python",
   "pygments_lexer": "ipython3",
   "version": "3.6.4"
  }
 },
 "nbformat": 4,
 "nbformat_minor": 2
}
